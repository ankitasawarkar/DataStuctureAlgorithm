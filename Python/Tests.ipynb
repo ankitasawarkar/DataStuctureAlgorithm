{
 "cells": [
  {
   "cell_type": "code",
   "execution_count": 3,
   "metadata": {},
   "outputs": [
    {
     "data": {
      "text/plain": [
       "False"
      ]
     },
     "execution_count": 3,
     "metadata": {},
     "output_type": "execute_result"
    }
   ],
   "source": [
    "r = [1,3,4,5,6]\n",
    "r2 = [1,3,5,4,6]\n",
    "\n",
    "r == r2"
   ]
  },
  {
   "cell_type": "code",
   "execution_count": 7,
   "metadata": {},
   "outputs": [
    {
     "ename": "ImportError",
     "evalue": "cannot import name 'insert_inorder' from 'TreeInsert' (c:\\Users\\Ankita\\Documents\\Destination\\Projects\\DataStructure\\Python\\TreeInsert.py)",
     "output_type": "error",
     "traceback": [
      "\u001b[1;31m---------------------------------------------------------------------------\u001b[0m",
      "\u001b[1;31mImportError\u001b[0m                               Traceback (most recent call last)",
      "Cell \u001b[1;32mIn[7], line 2\u001b[0m\n\u001b[0;32m      1\u001b[0m \u001b[38;5;28;01mfrom\u001b[39;00m \u001b[38;5;21;01mTreeNode\u001b[39;00m \u001b[38;5;28;01mimport\u001b[39;00m TreeNode\n\u001b[1;32m----> 2\u001b[0m \u001b[38;5;28;01mfrom\u001b[39;00m \u001b[38;5;21;01mTreeInsert\u001b[39;00m \u001b[38;5;28;01mimport\u001b[39;00m insert_inorder\n\u001b[0;32m      4\u001b[0m values \u001b[38;5;241m=\u001b[39m [\u001b[38;5;241m3\u001b[39m, \u001b[38;5;241m9\u001b[39m, \u001b[38;5;241m20\u001b[39m, \u001b[38;5;28;01mNone\u001b[39;00m, \u001b[38;5;28;01mNone\u001b[39;00m, \u001b[38;5;241m15\u001b[39m, \u001b[38;5;241m7\u001b[39m]\n\u001b[0;32m      5\u001b[0m root \u001b[38;5;241m=\u001b[39m insert_inorder(\u001b[38;5;28;01mNone\u001b[39;00m, values, \u001b[38;5;241m0\u001b[39m)\n",
      "\u001b[1;31mImportError\u001b[0m: cannot import name 'insert_inorder' from 'TreeInsert' (c:\\Users\\Ankita\\Documents\\Destination\\Projects\\DataStructure\\Python\\TreeInsert.py)"
     ]
    }
   ],
   "source": [
    "from TreeNode import TreeNode\n",
    "from TreeInsert import insert_inorder\n",
    "\n",
    "values = [3, 9, 20, None, None, 15, 7]\n",
    "root = insert_inorder(None, values, 0)"
   ]
  }
 ],
 "metadata": {
  "kernelspec": {
   "display_name": "Python 3",
   "language": "python",
   "name": "python3"
  },
  "language_info": {
   "codemirror_mode": {
    "name": "ipython",
    "version": 3
   },
   "file_extension": ".py",
   "mimetype": "text/x-python",
   "name": "python",
   "nbconvert_exporter": "python",
   "pygments_lexer": "ipython3",
   "version": "3.10.9"
  }
 },
 "nbformat": 4,
 "nbformat_minor": 2
}

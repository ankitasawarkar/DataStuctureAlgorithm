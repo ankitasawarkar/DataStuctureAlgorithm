{
 "cells": [
  {
   "cell_type": "markdown",
   "metadata": {},
   "source": [
    "# 743. Network Delay Time\n",
    "\n",
    "**Medium**\n",
    "\n",
    "You are given a network of n nodes, labeled from 1 to n. You are also given times, a list of travel times as directed edges times[i] = (ui, vi, wi), where ui is the source node, vi is the target node, and wi is the time it takes for a signal to travel from source to target.\n",
    "\n",
    "We will send a signal from a given node k. Return the minimum time it takes for all the n nodes to receive the signal. If it is impossible for all the n nodes to receive the signal, return -1.\n",
    "\n",
    " \n",
    "\n",
    "Example 1:\n",
    "\n",
    "Input: times = [[2,1,1],[2,3,1],[3,4,1]], n = 4, k = 2\\\n",
    "Output: 2\n",
    "\n",
    "Example 2:\n",
    "\n",
    "Input: times = [[1,2,1]], n = 2, k = 1\\\n",
    "Output: 1\n",
    "\n",
    "Example 3:\n",
    "\n",
    "Input: times = [[1,2,1]], n = 2, k = 2\\\n",
    "Output: -1\n",
    " "
   ]
  },
  {
   "cell_type": "code",
   "execution_count": null,
   "metadata": {},
   "outputs": [],
   "source": [
    "import collections\n",
    "import heapq\n",
    "from typing import List\n",
    "\n",
    "\n",
    "class Solution:\n",
    "    def networkDelayTime(self, times: List[List[int]], n: int, k: int) -> int:\n",
    "        edge = collections.defaultdict(list)\n",
    "        for u,v,w in times:\n",
    "            edge[u].append((v, w))\n",
    "\n",
    "        visited = set()\n",
    "        minHeap = [(0, k)] # (weight, start-node)\n",
    "        total = 0\n",
    "        while minHeap:\n",
    "            w1, n1 = heapq.heappop(minHeap)\n",
    "            if n1 in visited:\n",
    "                continue\n",
    "            visited.add(n1)\n",
    "            total = max(total, w1)\n",
    "\n",
    "            # check with neighbour nodes\n",
    "            for n2, w2 in edge[n1]:\n",
    "                if n2 not in visited:\n",
    "                    heapq.heappush(minHeap, (w1+w2, n2))\n",
    "        return total if len(visited) == n else -1\n",
    "\n",
    "        # time complexity O(E logV)\n",
    "        # Max memory heap take E = V^2"
   ]
  }
 ],
 "metadata": {
  "language_info": {
   "name": "python"
  }
 },
 "nbformat": 4,
 "nbformat_minor": 2
}

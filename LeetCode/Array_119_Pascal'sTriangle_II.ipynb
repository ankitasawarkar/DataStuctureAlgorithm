{
 "cells": [
  {
   "cell_type": "markdown",
   "metadata": {},
   "source": [
    "119. Pascal's Triangle II\n",
    "\n",
    "https://leetcode.com/problems/pascals-triangle-ii/description/\n",
    "\n",
    "**Easy**\n",
    "\n",
    "Given an integer rowIndex, return the rowIndexth (0-indexed) row of the Pascal's triangle.\n",
    "\n",
    "In Pascal's triangle, each number is the sum of the two numbers directly above it as shown:\n",
    "\n",
    "Example 1:\n",
    "\n",
    "Input: rowIndex = 3\\\n",
    "Output: [1,3,3,1]\n",
    "\n",
    "Example 2:\n",
    "\n",
    "Input: rowIndex = 0\\\n",
    "Output: [1]\n",
    "\n",
    "Example 3:\n",
    "\n",
    "Input: rowIndex = 1\\\n",
    "Output: [1,1]"
   ]
  },
  {
   "cell_type": "code",
   "execution_count": null,
   "metadata": {},
   "outputs": [],
   "source": [
    "from typing import List\n",
    "\n",
    "\n",
    "class Solution:\n",
    "    def getRow(self, rowIndex: int) -> List[int]:\n",
    "        result = [[1]]\n",
    "        for i in range(rowIndex):\n",
    "            temp = [0] + result[-1] + [0]\n",
    "            row = []\n",
    "            for j in range(len(result[-1])+1):\n",
    "                row.append(temp[j]+temp[j+1])\n",
    "            result.append(row)\n",
    "        return result[rowIndex]\n",
    "run = Solution()\n",
    "run.getRow(4)          \n",
    "\n",
    "# Output: [1, 4, 6, 4, 1]\n",
    "\n",
    "# Time Complexity: O(n)\n",
    "# Space Complexity: O(n)\n"
   ]
  }
 ],
 "metadata": {
  "language_info": {
   "name": "python"
  }
 },
 "nbformat": 4,
 "nbformat_minor": 2
}

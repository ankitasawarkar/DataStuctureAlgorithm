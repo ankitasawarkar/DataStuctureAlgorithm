{
 "cells": [
  {
   "cell_type": "markdown",
   "metadata": {},
   "source": [
    "# Meta Coding Interview"
   ]
  },
  {
   "cell_type": "code",
   "execution_count": 13,
   "metadata": {},
   "outputs": [
    {
     "name": "stdout",
     "output_type": "stream",
     "text": [
      "2\n",
      "7\n"
     ]
    }
   ],
   "source": [
    "# Time complexity = O(k * i)\n",
    "\n",
    "def printAllPrime(array):\n",
    "    for k in array:\n",
    "        if is_prime(k):\n",
    "            print(k)\n",
    "\n",
    "def is_prime(n):\n",
    "    if n<2:\n",
    "        return False\n",
    "    for i in range(2, n):\n",
    "        if n%i ==0:\n",
    "            return False\n",
    "    return True\n",
    "\n",
    "arr = [2,4,6,7,8,4]\n",
    "printAllPrime(arr)"
   ]
  },
  {
   "cell_type": "code",
   "execution_count": null,
   "metadata": {},
   "outputs": [],
   "source": [
    "def create_table(arr):\n",
    "    min_val = min(arr) # O(a)\n",
    "    max_val = max(arr) # O(a)\n",
    "    table = [0] * (max_val - min_val +1) # O(d) where d = max-min\n",
    "    return table # O(a+a+d) = O(2a + d) = O(a+d) <-- Time complexity \n",
    "# O(d) -- space "
   ]
  },
  {
   "cell_type": "code",
   "execution_count": null,
   "metadata": {},
   "outputs": [],
   "source": [
    "def count_paise_which_sum_to_max(array):\n",
    "    max_value = max(array) #O(N)\n",
    "    count = 0\n",
    "\n",
    "# O(N^2)\n",
    "    for left in range(0, len(array)):\n",
    "        for right in range(left +1, len(array)):\n",
    "            left_val = array[left]\n",
    "            right_val = array[right]\n",
    "            if left_val + right_val == max_value:\n",
    "                count +=1\n",
    "    return count\n"
   ]
  },
  {
   "cell_type": "markdown",
   "metadata": {},
   "source": [
    "Given a board state, Continuously remove 3<= similar characters from left to right, and output the final state of the board”\n",
    "\n",
    "Ex: “aabbccccccccccb” -> “aabbb\" “aa”\n",
    "\n",
    "Ex: “aabbbbbba” -> “”\n",
    "\n",
    "Ex: “aaabbbbbba” -> “a”"
   ]
  },
  {
   "cell_type": "code",
   "execution_count": 5,
   "metadata": {},
   "outputs": [],
   "source": [
    "def final_board_state(board):\n",
    "    stack = []\n",
    "    \n",
    "    for char in board:\n",
    "        print(char)\n",
    "        if stack and stack[-1][0] == char:\n",
    "            print(stack[-1][1])\n",
    "            stack[-1] = (char, stack[-1][1] + 1)\n",
    "        else:\n",
    "            stack.append((char, 1))\n",
    "        print(stack)\n",
    "        if stack[-1][1] >= 3:\n",
    "            stack.pop()\n",
    "    \n",
    "    result = ''.join(char * count for char, count in stack)\n",
    "    return result"
   ]
  },
  {
   "cell_type": "code",
   "execution_count": 9,
   "metadata": {},
   "outputs": [
    {
     "name": "stdout",
     "output_type": "stream",
     "text": [
      "a\n",
      "[('a', 1)]\n",
      "a\n",
      "1\n",
      "[('a', 2)]\n",
      "b\n",
      "[('a', 2), ('b', 1)]\n",
      "b\n",
      "1\n",
      "[('a', 2), ('b', 2)]\n",
      "b\n",
      "2\n",
      "[('a', 2), ('b', 3)]\n",
      "b\n",
      "[('a', 2), ('b', 1)]\n",
      "b\n",
      "1\n",
      "[('a', 2), ('b', 2)]\n",
      "b\n",
      "2\n",
      "[('a', 2), ('b', 3)]\n",
      "a\n",
      "2\n",
      "[('a', 3)]\n",
      "\n"
     ]
    }
   ],
   "source": [
    "# Example usage:\n",
    "board1 = \"aabbccccccccccb\"\n",
    "board2 = \"aabbbbbba\"\n",
    "board3 = \"aaabbbbbba\"\n",
    "\n",
    "#print(final_board_state(board1))  # Output: \"aabbb\"\n",
    "print(final_board_state(board2))  # Output: \"\"\n",
    "#print(final_board_state(board3))  # Output: \"a\""
   ]
  },
  {
   "cell_type": "markdown",
   "metadata": {},
   "source": [
    "Explanation:\n",
    "\n",
    "* We use a stack to keep track of characters and their counts as we traverse the board from left to right.\n",
    "* For each character encountered, we check if it's the same as the character at the top of the stack. If yes, we update the count; otherwise, we push a new tuple onto the stack representing the current character and its count.\n",
    "* If the count of the top element in the stack becomes greater than or equal to 3, we pop that element from the stack as we need to remove three or more similar characters.\n",
    "* Finally, we concatenate the characters and their counts in the stack to form the final result.\n",
    "\n",
    "Time Complexity:\n",
    "\n",
    "The time complexity of this solution is O(N), where N is the length of the input board. This is because we traverse the board once and perform constant time operations for each character in the board. The stack ensures that we efficiently keep track of the characters and their counts."
   ]
  },
  {
   "cell_type": "markdown",
   "metadata": {},
   "source": [
    "Given an array that only contains ints and other arrays, calculate the depth sum; The sum of the elements multiplied by their respective depth in the array”\n",
    "\n",
    "Ex: [4, [5, 6]] = 26\n",
    "\n",
    "26 = 14 + 25 + 2*6 = 26\n",
    "\n",
    "Ex: [1, 2, [1, 3]] = 11\n",
    "\n",
    "1+2+2+6"
   ]
  },
  {
   "cell_type": "code",
   "execution_count": 16,
   "metadata": {},
   "outputs": [
    {
     "name": "stdout",
     "output_type": "stream",
     "text": [
      "4 1\n",
      "result= 4\n",
      "[5, 6] 1\n",
      "5 2\n",
      "result= 10\n",
      "6 2\n",
      "result= 22\n",
      "result= 26\n",
      "26\n"
     ]
    }
   ],
   "source": [
    "def depth_sum(arr, depth=1):\n",
    "    result = 0\n",
    "\n",
    "    for element in arr:\n",
    "        print(element , depth)\n",
    "        if isinstance(element, list):\n",
    "            result += depth_sum(element, depth + 1)\n",
    "        else:\n",
    "            result += element * depth\n",
    "        print(\"result=\",result)\n",
    "\n",
    "    return result\n",
    "\n",
    "# Example usage:\n",
    "arr1 = [4, [5, 6]]\n",
    "arr2 = [1, 2, [1, 3]]\n",
    "\n",
    "print(depth_sum(arr1))  # Output: 26\n",
    "print(depth_sum(arr2))  # Output: 11"
   ]
  },
  {
   "cell_type": "markdown",
   "metadata": {},
   "source": [
    "1. The depth_sum function takes an array (arr) and an optional depth parameter, which defaults to 1. This parameter represents the depth of the current array in the nesting.\n",
    "2. It iterates through each element in the array. If the element is a list, it recursively calls itself with the nested array and an incremented depth.\n",
    "3. If the element is an integer, it adds the product of the element and its depth to the result.\n",
    "4. The final result is the sum of all the products calculated at each level of depth.\n",
    "\n",
    "Time Complexity:\\\n",
    "The time complexity of this solution is O(N), where N is the total number of elements in the input array. This is because each element is visited once, and the recursion depth is limited by the nesting of arrays."
   ]
  },
  {
   "cell_type": "markdown",
   "metadata": {},
   "source": [
    "[76. Minimum Window Substring](https://leetcode.com/problems/minimum-window-substring/description/)\n",
    "\n",
    "Example 1:\\\n",
    "Input: s = \"ADOBECODEBANC\", t = \"ABC\"\\\n",
    "Output: \"BANC\"\\\n",
    "Explanation: The minimum window substring \"BANC\" includes 'A', 'B', and 'C' from string t.\n",
    "\n",
    "Example 2:\\\n",
    "Input: s = \"a\", t = \"a\"\\\n",
    "Output: \"a\"\\\n",
    "Explanation: The entire string s is the minimum window.\n",
    "\n",
    "Example 3:\\\n",
    "Input: s = \"a\", t = \"aa\"\\\n",
    "Output: \"\"\\\n",
    "Explanation: Both 'a's from t must be included in the window.\\\n",
    "Since the largest window of s only has one 'a', return empty string.\n",
    " \n"
   ]
  },
  {
   "cell_type": "code",
   "execution_count": 27,
   "metadata": {},
   "outputs": [
    {
     "name": "stdout",
     "output_type": "stream",
     "text": [
      "BANC\n"
     ]
    }
   ],
   "source": [
    "\n",
    "def minWindow(s: str, t: str) -> str:\n",
    "    if len(s) < len(t) or t == \"\":\n",
    "        return \"\"\n",
    "    if (len(s) == len(t)) and (s == t):\n",
    "        return s\n",
    "    \n",
    "    countT, window = {}, {}\n",
    "    for ch in t:\n",
    "        countT[ch] = 1+ countT.get(ch, 0)\n",
    "    #print(countT)\n",
    "    \n",
    "    have, need = 0, len(countT)\n",
    "    res, resLen = [-1, -1], float(\"infinity\")\n",
    "    l = 0\n",
    "\n",
    "    for r in range(len(s)):\n",
    "        char = s[r]\n",
    "        window[char] = 1 + window.get(char, 0)\n",
    "\n",
    "        if char in countT and window[char] == countT[char]:\n",
    "            have +=1\n",
    "\n",
    "        while have == need:\n",
    "            if (r-l+1) < resLen:\n",
    "                res = [l, r]\n",
    "                resLen = (r-l+1)\n",
    "            \n",
    "            window[s[l]] -=1\n",
    "            if s[l] in countT and window[s[l]] < countT[s[l]]:\n",
    "                have -=1\n",
    "            l +=1\n",
    "\n",
    "    l, r = res\n",
    "    return s[l:r+1] if resLen != float(\"infinity\") else \"\"\n",
    "\n",
    "s = \"ADOBECODEBANC\"\n",
    "t = \"ABC\"\n",
    "print(minWindow(s,t))"
   ]
  },
  {
   "cell_type": "markdown",
   "metadata": {},
   "source": [
    "[207. Course Schedule](https://leetcode.com/problems/course-schedule/description/)\n",
    "\n",
    "There are a total of numCourses courses you have to take, labeled from 0 to numCourses - 1. You are given an array prerequisites where prerequisites[i] = [ai, bi] indicates that you must take course bi first if you want to take course ai.\n",
    "\n",
    "For example, the pair [0, 1], indicates that to take course 0 you have to first take course 1.\\\n",
    "Return true if you can finish all courses. Otherwise, return false.\n",
    "\n",
    " \n",
    "\n",
    "Example 1:\n",
    "Input: numCourses = 2, prerequisites = [[1,0]]\\\n",
    "Output: true\\\n",
    "Explanation: There are a total of 2 courses to take. \\\n",
    "To take course 1 you should have finished course 0. So it is possible.\n",
    "\n",
    "Example 2:\\\n",
    "Input: numCourses = 2, prerequisites = [[1,0],[0,1]]\\\n",
    "Output: false\\\n",
    "Explanation: There are a total of 2 courses to take. \\\n",
    "To take course 1 you should have finished course 0, and to take course 0 you should also have finished course 1. So it is impossible."
   ]
  },
  {
   "cell_type": "code",
   "execution_count": 34,
   "metadata": {},
   "outputs": [
    {
     "name": "stdout",
     "output_type": "stream",
     "text": [
      "{0: [1, 2], 1: [3, 4], 2: [], 3: [4], 4: []}\n"
     ]
    },
    {
     "data": {
      "text/plain": [
       "False"
      ]
     },
     "execution_count": 34,
     "metadata": {},
     "output_type": "execute_result"
    }
   ],
   "source": [
    "\n",
    "def canFinish(numCourses: int, prerequisites) -> bool:\n",
    "    # prerequisites: List[List[int]]\n",
    "   \n",
    "    course = {i:[] for i in range(numCourses)}\n",
    "    for crs, req in prerequisites:\n",
    "        course[crs].append(req)\n",
    "    print(course)\n",
    "\n",
    "    # checkSet = all courses completed set\n",
    "    checkSet = set()\n",
    "    def dfs(crs):\n",
    "        if crs in checkSet:\n",
    "            return False\n",
    "        if course[crs] == []:\n",
    "            return True\n",
    "        checkSet.add(crs)\n",
    "        for pre in course[crs]:\n",
    "            if not dfs(pre): return False\n",
    "        \n",
    "        checkSet.remove(crs)\n",
    "        course[crs] = []\n",
    "        return True\n",
    "    \n",
    "    for crs in range(numCourses):\n",
    "        if not dfs(crs): return False\n",
    "    return False\n",
    "\n",
    "    \n",
    "\n",
    "numCourses = 5\n",
    "prerequisites = [[0,1],[0,2],[1,3],[1,4],[3,4]]\n",
    "canFinish(numCourses, prerequisites)"
   ]
  },
  {
   "cell_type": "markdown",
   "metadata": {},
   "source": [
    "[20. Valid Parentheses](https://leetcode.com/problems/valid-parentheses/description/)\n",
    "\n",
    "Given a string s containing just the characters '(', ')', '{', '}', '[' and ']', determine if the input string is valid.\n",
    "\n",
    "An input string is valid if:\\\n",
    "Open brackets must be closed by the same type of brackets.\\\n",
    "Open brackets must be closed in the correct order.\\\n",
    "Every close bracket has a corresponding open bracket of the same type.\n",
    " \n",
    "\n",
    "Example 1:\\\n",
    "Input: s = \"()\"\\\n",
    "Output: true\n",
    "\n",
    "Example 2:\\\n",
    "Input: s = \"()[]{}\"\\\n",
    "Output: true\n",
    "\n",
    "Example 3:\\\n",
    "Input: s = \"(]\"\\\n",
    "Output: false\n"
   ]
  },
  {
   "cell_type": "code",
   "execution_count": 66,
   "metadata": {},
   "outputs": [
    {
     "data": {
      "text/plain": [
       "False"
      ]
     },
     "execution_count": 66,
     "metadata": {},
     "output_type": "execute_result"
    }
   ],
   "source": [
    "def isValidParentheses(s):\n",
    "    stack = []\n",
    "    for char in s:\n",
    "        if char == '(':\n",
    "            stack.append(')')\n",
    "        elif char == '[':\n",
    "            stack.append(']')\n",
    "        elif char == '{':\n",
    "            stack.append('}')\n",
    "        elif stack and stack.pop() != char:\n",
    "            return False\n",
    "    return True\n",
    "\n",
    "isValidParentheses(\"({{()}}})[\")"
   ]
  },
  {
   "cell_type": "code",
   "execution_count": 56,
   "metadata": {},
   "outputs": [
    {
     "data": {
      "text/plain": [
       "True"
      ]
     },
     "execution_count": 56,
     "metadata": {},
     "output_type": "execute_result"
    }
   ],
   "source": [
    "def isValidParentheses(s):\n",
    "    # Define the mapping of opening and closing parentheses\n",
    "    mapping = {'(': ')', '{': '}', '[': ']'}\n",
    "\n",
    "    # Initialize an empty stack\n",
    "    stack = []\n",
    "\n",
    "    # Iterate through each character in the string\n",
    "    for char in s:\n",
    "        # If the character is an opening parenthesis, push it onto the stack\n",
    "        if char in mapping:\n",
    "            stack.append(char)\n",
    "        else:\n",
    "            # If the stack is not empty and the top element matches the opening parenthesis for the current closing parenthesis\n",
    "            if stack and mapping[stack.pop()] == char:\n",
    "                continue\n",
    "            else:\n",
    "                return False\n",
    "\n",
    "    # The string is valid if the stack is empty at the end\n",
    "    return not stack\n",
    "\n",
    "# Example usage:\n",
    "isValidParentheses(\"[([([([([([([([([([([([([([([([([([([([([([([([([([([([([([([([([([([([([([([([([([([([([([([([([([()])])])])])])])])])])])])])])])])])])])])])])])])])])])])])])])])])])])])])])])])])])])])])])])])])]\")"
   ]
  },
  {
   "cell_type": "code",
   "execution_count": 65,
   "metadata": {},
   "outputs": [
    {
     "data": {
      "text/plain": [
       "False"
      ]
     },
     "execution_count": 65,
     "metadata": {},
     "output_type": "execute_result"
    }
   ],
   "source": [
    "def isValid(s: str) -> bool:\n",
    "    approved_char_dict = {'(': ')', '{': '}', '[': ']'}\n",
    "    stack = []\n",
    "\n",
    "    for char in s:\n",
    "        if char in approved_char_dict:\n",
    "            stack.append(char)\n",
    "        elif char in approved_char_dict.values():\n",
    "            if not stack or approved_char_dict[stack.pop()] != char:\n",
    "                return False\n",
    "\n",
    "    return not stack  # If the stack is empty, all parentheses are matched\n",
    "\n",
    "isValid(\"({{(){}}})[\")"
   ]
  },
  {
   "cell_type": "markdown",
   "metadata": {},
   "source": [
    "[1249. Minimum Remove to Make Valid Parentheses](https://leetcode.com/problems/minimum-remove-to-make-valid-parentheses/description/)\n",
    "\n",
    "Given a string s of '(' , ')' and lowercase English characters.\n",
    "\n",
    "Your task is to remove the minimum number of parentheses ( '(' or ')', in any positions ) so that the resulting parentheses string is valid and return any valid string.\n",
    "\n",
    "Formally, a parentheses string is valid if and only if:\n",
    "\n",
    "It is the empty string, contains only lowercase characters, or\\\n",
    "It can be written as AB (A concatenated with B), where A and B are valid strings, or\\\n",
    "It can be written as (A), where A is a valid string.\n",
    " \n",
    "\n",
    "Example 1:\\\n",
    "Input: s = \"lee(t(c)o)de)\"\\\n",
    "Output: \"lee(t(c)o)de\"\\\n",
    "Explanation: \"lee(t(co)de)\" , \"lee(t(c)ode)\" would also be accepted.\n",
    "\n",
    "Example 2:\\\n",
    "Input: s = \"a)b(c)d\"\\\n",
    "Output: \"ab(c)d\"\n",
    "\n",
    "Example 3:\\\n",
    "Input: s = \"))((\"\\\n",
    "Output: \"\"\\\n",
    "Explanation: An empty string is also valid.\n"
   ]
  },
  {
   "cell_type": "code",
   "execution_count": 60,
   "metadata": {},
   "outputs": [
    {
     "data": {
      "text/plain": [
       "'ab(c)d'"
      ]
     },
     "execution_count": 60,
     "metadata": {},
     "output_type": "execute_result"
    }
   ],
   "source": [
    "def minRemoveToMakeValid( s: str) -> str:\n",
    "    s = list(s)\n",
    "    stack = []\n",
    "    for i, char in enumerate(s):\n",
    "        if char == '(':\n",
    "            stack.append(i)\n",
    "        elif char == ')':\n",
    "            if stack:\n",
    "                stack.pop()\n",
    "            else:\n",
    "                s[i] = ''\n",
    "    while stack:\n",
    "        s[stack.pop()] = ''\n",
    "    return ''.join(s)\n",
    "\n",
    "minRemoveToMakeValid(\"lee(t(c)o)de)\")\n",
    "minRemoveToMakeValid(\"a)b(c)d\")"
   ]
  },
  {
   "cell_type": "markdown",
   "metadata": {},
   "source": [
    "[Trie](https://leetcode.com/problems/implement-trie-prefix-tree/submissions/1197929016/)\n",
    "\n",
    "A trie (pronounced as \"try\") or prefix tree is a tree data structure used to efficiently store and retrieve keys in a dataset of strings. There are various applications of this data structure, such as autocomplete and spellchecker.\n",
    "\n",
    "Implement the Trie class:\n",
    "\n",
    "Trie() Initializes the trie object.\\\n",
    "void insert(String word) Inserts the string word into the trie.\\\n",
    "boolean search(String word) Returns true if the string word is in the trie (i.e., was inserted before), and false otherwise.\\\n",
    "boolean startsWith(String prefix) Returns true if there is a previously inserted string word that has the prefix prefix, and false otherwise.\n",
    " \n",
    "\n",
    "Example 1:\\\n",
    "Input\\\n",
    "[\"Trie\", \"insert\", \"search\", \"search\", \"startsWith\", \"insert\", \"search\"]\\\n",
    "[[], [\"apple\"], [\"apple\"], [\"app\"], [\"app\"], [\"app\"], [\"app\"]]\\\n",
    "Output\\\n",
    "[null, null, true, false, true, null, true]\n",
    "\n",
    "Explanation\\\n",
    "Trie trie = new Trie();\\\n",
    "trie.insert(\"apple\");\\\n",
    "trie.search(\"apple\");   // return True\\\n",
    "trie.search(\"app\");     // return False\\\n",
    "trie.startsWith(\"app\"); // return True\\\n",
    "trie.insert(\"app\");\\\n",
    "trie.search(\"app\");     // return True"
   ]
  },
  {
   "cell_type": "code",
   "execution_count": null,
   "metadata": {},
   "outputs": [],
   "source": [
    "class Trie:\n",
    "    \n",
    "    def __init__(self):\n",
    "        self.root={}\n",
    "        \n",
    "    def insert(self, word: str) -> None:\n",
    "\n",
    "        cur=self.root\n",
    "        # For each character, it checks if the character is already present in the current node of the Trie (cur). If not, it adds a new entry in the dictionary for that character.\n",
    "        for letter in word:\n",
    "            if letter not in cur:\n",
    "                cur[letter]={}\n",
    "            cur=cur[letter]\n",
    "        # The iteration continues until all characters in the word are processed, and then a special marker ('*') is added to indicate the end of the word.\n",
    "        cur['*']=''\n",
    "\n",
    "    def search(self, word: str) -> bool:\n",
    "\n",
    "        cur=self.root\n",
    "        for letter in word:\n",
    "            if letter not in cur:\n",
    "                return False # If at any point a character is not found in the current node of the Trie, the method returns False.\n",
    "            cur=cur[letter]\n",
    "        # If the entire word is successfully processed, it checks if the special marker ('*') is present in the final node, indicating that the word exists in the Trie.\n",
    "        return '*' in cur\n",
    "        \n",
    "    def startsWith(self, prefix: str) -> bool:\n",
    "\n",
    "        cur=self.root\n",
    "        for letter in prefix:\n",
    "            if letter not in cur:\n",
    "                return False\n",
    "            cur=cur[letter]\n",
    "\n",
    "        return True\n",
    "        \n",
    "\n",
    "\n",
    "# Your Trie object will be instantiated and called as such:\n",
    "# obj = Trie()\n",
    "# obj.insert(word)\n",
    "# param_2 = obj.search(word)\n",
    "# param_3 = obj.startsWith(prefix)\n",
    "        \n",
    "\n",
    "\n",
    "# Your Trie object will be instantiated and called as such:\n",
    "# obj = Trie()\n",
    "# obj.insert(word)\n",
    "# param_2 = obj.search(word)\n",
    "# param_3 = obj.startsWith(prefix)"
   ]
  },
  {
   "cell_type": "markdown",
   "metadata": {},
   "source": [
    "[125. Valid Palindrome](https://leetcode.com/problems/valid-palindrome/)\n",
    "\n",
    "A phrase is a palindrome if, after converting all uppercase letters into lowercase letters and removing all non-alphanumeric characters, it reads the same forward and backward. Alphanumeric characters include letters and numbers.\n",
    "\n",
    "Given a string s, return true if it is a palindrome, or false otherwise.\n",
    "\n",
    " \n",
    "\n",
    "Example 1:\\\n",
    "Input: s = \"A man, a plan, a canal: Panama\"\\\n",
    "Output: true\\\n",
    "Explanation: \"amanaplanacanalpanama\" is a palindrome.\n",
    "\n",
    "Example 2:\\\n",
    "Input: s = \"race a car\"\\\n",
    "Output: false\\\n",
    "Explanation: \"raceacar\" is not a palindrome.\n",
    "\n",
    "Example 3:\\\n",
    "Input: s = \" \"\\\n",
    "Output: true\\\n",
    "Explanation: s is an empty string \"\" after removing non-alphanumeric characters.\\\n",
    "Since an empty string reads the same forward and backward, it is a palindrome.\n"
   ]
  },
  {
   "cell_type": "code",
   "execution_count": 79,
   "metadata": {},
   "outputs": [
    {
     "data": {
      "text/plain": [
       "True"
      ]
     },
     "execution_count": 79,
     "metadata": {},
     "output_type": "execute_result"
    }
   ],
   "source": [
    "def isPalindrome( s):\n",
    "    l, r = 0, len(s)-1\n",
    "    while l < r:\n",
    "        #print(s[l],\"--l--\",s[l].isalnum())\n",
    "        while l < r and not s[l].isalnum():\n",
    "            l += 1\n",
    "        #print(s[r],\"--r--\",s[r].isalnum())\n",
    "        while l <r and not s[r].isalnum():\n",
    "            r -= 1\n",
    "        if s[l].lower() != s[r].lower():\n",
    "            return False\n",
    "        l +=1; r -= 1\n",
    "    return True\n",
    "\n",
    "# Time Complexity: O(N)\n",
    "# Space Complexity: O(1)\n",
    "\n",
    "isPalindrome(\"A man, a plan, a canal: Panama\")"
   ]
  },
  {
   "cell_type": "markdown",
   "metadata": {},
   "source": [
    "**Follow-up 1: Matching a Specific Character Set**\\\n",
    "If you want to check if the string is a palindrome considering only specific characters from a charset (e.g., 'a', 'e', 'z'), you can modify the function accordingly. Here's how you can do it using a hashset for the charset:"
   ]
  },
  {
   "cell_type": "code",
   "execution_count": 81,
   "metadata": {},
   "outputs": [
    {
     "name": "stdout",
     "output_type": "stream",
     "text": [
      "True\n"
     ]
    }
   ],
   "source": [
    "def isPalindromeWithCharset(s, charset):\n",
    "    l, r = 0, len(s) - 1\n",
    "    charset_set = set(charset)\n",
    "\n",
    "    while l < r:\n",
    "        while l < r and s[l].lower() not in charset_set:\n",
    "            l += 1\n",
    "        while l < r and s[r].lower() not in charset_set:\n",
    "            r -= 1\n",
    "\n",
    "        if s[l].lower() != s[r].lower():\n",
    "            return False\n",
    "        l += 1\n",
    "        r -= 1\n",
    "\n",
    "    return True\n",
    "\n",
    "# Example usage:\n",
    "charset = {'a', 'e', 'z'}\n",
    "print(isPalindromeWithCharset(\"A man, a plan, a canal: Panama\", charset))  # Output: True\n"
   ]
  },
  {
   "cell_type": "markdown",
   "metadata": {},
   "source": [
    "**Follow-up 2: Infinite String with Limited RAM**\\\n",
    "If the string is infinitely large and you can only access blocks of k contiguous characters, you can modify the function to work with blocks. Here's a high-level approach:"
   ]
  },
  {
   "cell_type": "code",
   "execution_count": 92,
   "metadata": {},
   "outputs": [
    {
     "name": "stdout",
     "output_type": "stream",
     "text": [
      "True\n"
     ]
    }
   ],
   "source": [
    "def isPalindromeInfinite(s):\n",
    "    # Function to remove special characters and spaces from a string\n",
    "    def clean_string(input_str):\n",
    "        return ''.join(char.lower() for char in input_str if char.isalnum())\n",
    "\n",
    "    cleaned_s = clean_string(s)\n",
    "    reversed_s = cleaned_s[::-1]\n",
    "\n",
    "    return cleaned_s == reversed_s\n",
    "\n",
    "# Example usage:\n",
    "print(isPalindromeInfinite(\"A man, a plan, a canal: Panama\"))  # Output: True\n"
   ]
  },
  {
   "cell_type": "code",
   "execution_count": 93,
   "metadata": {},
   "outputs": [
    {
     "name": "stdout",
     "output_type": "stream",
     "text": [
      "True\n"
     ]
    }
   ],
   "source": [
    "def isPalindromeInfinite(s):\n",
    "    def clean_string(input_str):\n",
    "        return ''.join(char.lower() for char in input_str if char.isalnum())\n",
    "\n",
    "    cleaned_s = clean_string(s)\n",
    "\n",
    "    # Check for early return\n",
    "    if len(cleaned_s) < 2:\n",
    "        return True\n",
    "\n",
    "    start, end = 0, len(cleaned_s) - 1\n",
    "\n",
    "    while start < end:\n",
    "        if cleaned_s[start] != cleaned_s[end]:\n",
    "            return False\n",
    "        start += 1\n",
    "        end -= 1\n",
    "\n",
    "    return True\n",
    "\n",
    "# Example usage:\n",
    "print(isPalindromeInfinite(\"A man, a plan, a canal: Panama\"))  # Output: True\n"
   ]
  },
  {
   "cell_type": "markdown",
   "metadata": {},
   "source": [
    "[560. Subarray Sum Equals K](https://leetcode.com/problems/subarray-sum-equals-k/description/)\n",
    "\n",
    "Given an array of integers nums and an integer k, return the total number of subarrays whose sum equals to k.\n",
    "\n",
    "A subarray is a contiguous non-empty sequence of elements within an array.\n",
    "\n",
    "Example 1:\\\n",
    "Input: nums = [1,1,1], k = 2\\\n",
    "Output: 2\n",
    "\n",
    "Example 2:\\\n",
    "Input: nums = [1,2,3], k = 3\\\n",
    "Output: 2\n",
    " \n",
    "\n",
    "First of all, the basic idea behind this code is that, whenever sums has increased by a value of k, we've found a subarray of sums=k.\n",
    "I'll also explain why we need to initialise 0 in the hashmap.\\\n",
    "Example: Let's say our elements are [1,2,1,3] and k = 3.\\\n",
    "and our corresponding running sums = [1,3,4,7]\\\n",
    "Now, if you notice the running sums array, from 1->4, there is increase of k and from 4->7, there is an increase of k. So, we've found 2 subarrays of sums=k.\n",
    "\n",
    "But, if you look at the original array, there are 3 subarrays of sums==k. Now, you'll understand why 0 comes in the picture.\n",
    "\n",
    "In the above example, 4-1=k and 7-4=k. Hence, we concluded that there are 2 subarrays.\\\n",
    "However, if sums==k, it should've been 3-0=k. But 0 is not present in the array. To account for this case, we include the 0.\\\n",
    "Now the modified sums array will look like [0,1,3,4,7]. Now, try to see for the increase of k.\n",
    "\n",
    "0->3\\\n",
    "1->4\\\n",
    "4->7\\\n",
    "Hence, 3 sub arrays of sums=k"
   ]
  },
  {
   "cell_type": "code",
   "execution_count": 96,
   "metadata": {},
   "outputs": [
    {
     "name": "stdout",
     "output_type": "stream",
     "text": [
      "2\n",
      "2\n",
      "3\n"
     ]
    }
   ],
   "source": [
    "def subarraySum(nums, k: int) -> int:\n",
    "    # nums: List[int]\n",
    "    count = 0\n",
    "    sums = 0\n",
    "    d = dict()\n",
    "    d[0] = 1\n",
    "    \n",
    "    for i in range(len(nums)):\n",
    "        sums += nums[i]\n",
    "        count += d.get(sums-k,0)\n",
    "        d[sums] = d.get(sums,0) + 1\n",
    "    \n",
    "    return(count)\n",
    "\n",
    "print(subarraySum([1,1,1], 2))\n",
    "print(subarraySum([1,2,3], 3))\n",
    "print(subarraySum([1,2,1,3], 3))"
   ]
  },
  {
   "cell_type": "markdown",
   "metadata": {},
   "source": [
    "[139. Word Break](https://leetcode.com/problems/word-break/description/)\n",
    "\n",
    "Given a string s and a dictionary of strings wordDict, return true if s can be segmented into a space-separated sequence of one or more dictionary words.\n",
    "\n",
    "Note that the same word in the dictionary may be reused multiple times in the segmentation.\n",
    "\n",
    " \n",
    "\n",
    "Example 1:\\\n",
    "Input: s = \"leetcode\", wordDict = [\"leet\",\"code\"]\\\n",
    "Output: true\\\n",
    "Explanation: Return true because \"leetcode\" can be segmented as \"leet code\".\n",
    "\n",
    "Example 2:\\\n",
    "Input: s = \"applepenapple\", wordDict = [\"apple\",\"pen\"]\\\n",
    "Output: true\\\n",
    "Explanation: Return true because \"applepenapple\" can be segmented as \"apple pen apple\".\\\n",
    "Note that you are allowed to reuse a dictionary word.\n",
    "\n",
    "Example 3:\\\n",
    "Input: s = \"catsandog\", wordDict = [\"cats\",\"dog\",\"sand\",\"and\",\"cat\"]\\\n",
    "Output: false"
   ]
  },
  {
   "cell_type": "code",
   "execution_count": 98,
   "metadata": {},
   "outputs": [
    {
     "name": "stdout",
     "output_type": "stream",
     "text": [
      "<class 'list'>\n"
     ]
    },
    {
     "data": {
      "text/plain": [
       "True"
      ]
     },
     "execution_count": 98,
     "metadata": {},
     "output_type": "execute_result"
    }
   ],
   "source": [
    "def wordBreak(s: str, wordDict) -> bool:\n",
    "    # wordDict: List[str]\n",
    "    present = [True]+[False]*len(s)\n",
    "\n",
    "    for index in range(1, len(s)+1):\n",
    "        for word in wordDict:\n",
    "            if present[index-len(word)] and s[:index].endswith(word): \n",
    "                present[index] = True\n",
    "    return present[-1]\n",
    "    \n",
    "\n",
    "wordBreak(\"leetcode\",[\"leet\",\"code\"])"
   ]
  }
 ],
 "metadata": {
  "kernelspec": {
   "display_name": "Python 3",
   "language": "python",
   "name": "python3"
  },
  "language_info": {
   "codemirror_mode": {
    "name": "ipython",
    "version": 3
   },
   "file_extension": ".py",
   "mimetype": "text/x-python",
   "name": "python",
   "nbconvert_exporter": "python",
   "pygments_lexer": "ipython3",
   "version": "3.10.9"
  }
 },
 "nbformat": 4,
 "nbformat_minor": 2
}

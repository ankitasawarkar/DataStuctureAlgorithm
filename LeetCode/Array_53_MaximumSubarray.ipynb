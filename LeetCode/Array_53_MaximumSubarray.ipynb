{
 "cells": [
  {
   "cell_type": "markdown",
   "metadata": {},
   "source": [
    "# 53. Maximum Subarray\n",
    "\n",
    "**Medium**\n",
    "\n",
    "Given an integer array nums, find the subarray  with the largest sum, and return its sum.\n",
    "\n",
    "Example 1:\n",
    "\n",
    "Input: nums = [-2,1,-3,4,-1,2,1,-5,4]\\\n",
    "Output: 6\\\n",
    "Explanation: The subarray [4,-1,2,1] has the largest sum 6.\n",
    "\n",
    "Example 2:\n",
    "\n",
    "Input: nums = [1]\\\n",
    "Output: 1\\\n",
    "Explanation: The subarray [1] has the largest sum 1.\n",
    "\n",
    "Example 3:\n",
    "\n",
    "Input: nums = [5,4,-1,7,8]\\\n",
    "Output: 23\\\n",
    "Explanation: The subarray [5,4,-1,7,8] has the largest sum 23."
   ]
  },
  {
   "cell_type": "code",
   "execution_count": 1,
   "metadata": {},
   "outputs": [],
   "source": [
    "from typing import List"
   ]
  },
  {
   "cell_type": "code",
   "execution_count": null,
   "metadata": {},
   "outputs": [],
   "source": [
    "class Solution:\n",
    "    def maxSubArray(self, nums: List[int]) -> int:\n",
    "        maxSub = nums[0]\n",
    "        currentSum = 0\n",
    "\n",
    "        for i in nums:\n",
    "            if currentSum < 0:\n",
    "                currentSum = 0\n",
    "            currentSum += i\n",
    "            #currentSum = max(i+currentSum, i)\n",
    "            maxSub = max(maxSub, currentSum)\n",
    "\n",
    "        return maxSub "
   ]
  },
  {
   "cell_type": "code",
   "execution_count": null,
   "metadata": {},
   "outputs": [],
   "source": [
    "class Solution:\n",
    "    def maxSubArray(self, nums: List[int]) -> int:\n",
    "        \n",
    "        maxSub = nums[0]\n",
    "        sumSubNum = 0\n",
    "        for n in nums:\n",
    "            if sumSubNum < 0:\n",
    "                sumSubNum = 0\n",
    "            sumSubNum += n\n",
    "            maxSub = max(maxSub, sumSubNum)\n",
    "        return maxSub"
   ]
  },
  {
   "cell_type": "code",
   "execution_count": null,
   "metadata": {},
   "outputs": [],
   "source": [
    "class Solution:\n",
    "    def maxSubArray(self, nums: List[int]) -> int:\n",
    "       maxVal = self.maxSubArraySum(nums,0,len(nums)-1)\n",
    "       return maxVal\n",
    "      \n",
    "    def maxSubArraySum(self, num,l,h):\n",
    "        if(l>h):\n",
    "            return -10000\n",
    "        \n",
    "        if(l==h):\n",
    "            return num[l]\n",
    "        \n",
    "        m = (l+h)//2\n",
    "        \n",
    "        return max(self.maxSubArraySum(num,l,m-1),self.maxSubArraySum(num,m+1,h),self.maxCrossingSum(num,l,m,h))\n",
    "    \n",
    "    def maxCrossingSum(self, num,l,m,h):\n",
    "        sm=0\n",
    "        left_sum=-10000\n",
    "        \n",
    "        for i in range(m,l-1,-1):\n",
    "            sm = sm+num[i]\n",
    "            if(sm>left_sum):\n",
    "                left_sum = sm\n",
    "                \n",
    "        sm=0\n",
    "        right_sum=-10000\n",
    "        \n",
    "        for i in range(m,h+1):\n",
    "            sm = sm+num[i]\n",
    "            if(sm>right_sum):\n",
    "                right_sum = sm\n",
    "                \n",
    "        return max(left_sum + right_sum - num[m], left_sum, right_sum)  "
   ]
  }
 ],
 "metadata": {
  "kernelspec": {
   "display_name": "tfodj",
   "language": "python",
   "name": "tfodj"
  },
  "language_info": {
   "codemirror_mode": {
    "name": "ipython",
    "version": 3
   },
   "file_extension": ".py",
   "mimetype": "text/x-python",
   "name": "python",
   "nbconvert_exporter": "python",
   "pygments_lexer": "ipython3",
   "version": "3.10.9"
  }
 },
 "nbformat": 4,
 "nbformat_minor": 2
}

{
 "cells": [
  {
   "cell_type": "markdown",
   "metadata": {},
   "source": [
    "# 207. Course Schedule\n",
    "\n",
    "**Medium**\n",
    "\n",
    "There are a total of numCourses courses you have to take, labeled from 0 to numCourses - 1. You are given an array prerequisites where prerequisites[i] = [ai, bi] indicates that you must take course bi first if you want to take course ai.\n",
    "\n",
    "For example, the pair [0, 1], indicates that to take course 0 you have to first take course 1.\n",
    "Return true if you can finish all courses. Otherwise, return false.\n",
    "\n",
    " \n",
    "\n",
    "Example 1:\n",
    "\n",
    "Input: numCourses = 2, prerequisites = [[1,0]]\\\n",
    "Output: true\\\n",
    "Explanation: There are a total of 2 courses to take. \\\n",
    "To take course 1 you should have finished course 0. So it is possible.\\\n",
    "\n",
    "Example 2:\n",
    "\n",
    "Input: numCourses = 2, prerequisites = [[1,0],[0,1]]\\\n",
    "Output: false\\\n",
    "Explanation: There are a total of 2 courses to take. \\\n",
    "To take course 1 you should have finished course 0, and to take course 0 you should also have finished course 1. So it is impossible."
   ]
  },
  {
   "cell_type": "code",
   "execution_count": 4,
   "metadata": {},
   "outputs": [],
   "source": [
    "from typing import List\n",
    "\n",
    "class Solution:\n",
    "    def canFinish(self, numCourses: int, prerequisites: List[List[int]]) -> bool:\n",
    "        cources = {i:[] for i in range(numCourses)}\n",
    "        print(cources)\n",
    "\n",
    "        return True"
   ]
  },
  {
   "cell_type": "code",
   "execution_count": 7,
   "metadata": {},
   "outputs": [],
   "source": [
    "import collections\n",
    "\n",
    "class Solution2:\n",
    "    def canFinish(self, numCourses: int, prerequisites: List[List[int]]) -> bool:\n",
    "        adjList = collections.defaultdict(list)\n",
    "\n",
    "        for course, pre in prerequisites:\n",
    "            adjList[course].append(pre)\n",
    "\n",
    "        def cycle(node, tracker, visited):\n",
    "            tracker[node] = True\n",
    "            visited[node] = True\n",
    "\n",
    "            for n in adjList[node]:\n",
    "                if n not in visited and cycle(n, tracker, visited):\n",
    "                    return True\n",
    "                elif n in tracker:\n",
    "                    return True\n",
    "                \n",
    "            tracker.pop(node)\n",
    "            return False\n",
    "        \n",
    "        visited = {}\n",
    "\n",
    "        for n in range(numCourses):\n",
    "            tracker = {}\n",
    "            if n not in visited and cycle(n, tracker, visited):\n",
    "                return False\n",
    "            \n",
    "        return True             "
   ]
  },
  {
   "cell_type": "code",
   "execution_count": 8,
   "metadata": {},
   "outputs": [
    {
     "data": {
      "text/plain": [
       "False"
      ]
     },
     "execution_count": 8,
     "metadata": {},
     "output_type": "execute_result"
    }
   ],
   "source": [
    "numCourses = 2\n",
    "prerequisites = [[1,0]]\n",
    "#%debug\n",
    "solve = Solution2()\n",
    "solve.canFinish(numCourses, prerequisites)"
   ]
  }
 ],
 "metadata": {
  "kernelspec": {
   "display_name": "Python 3",
   "language": "python",
   "name": "python3"
  },
  "language_info": {
   "codemirror_mode": {
    "name": "ipython",
    "version": 3
   },
   "file_extension": ".py",
   "mimetype": "text/x-python",
   "name": "python",
   "nbconvert_exporter": "python",
   "pygments_lexer": "ipython3",
   "version": "3.10.9"
  }
 },
 "nbformat": 4,
 "nbformat_minor": 2
}
